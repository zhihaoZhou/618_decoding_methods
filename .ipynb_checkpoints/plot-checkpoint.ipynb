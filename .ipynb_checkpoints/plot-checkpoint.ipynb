{
 "cells": [
  {
   "cell_type": "code",
   "execution_count": 3,
   "metadata": {},
   "outputs": [],
   "source": [
    "import numpy as np\n",
    "import matplotlib.pyplot as plt"
   ]
  },
  {
   "cell_type": "code",
   "execution_count": 1,
   "metadata": {},
   "outputs": [],
   "source": [
    "top_k_metrics = "
   ]
  },
  {
   "cell_type": "code",
   "execution_count": 2,
   "metadata": {},
   "outputs": [
    {
     "data": {
      "text/plain": [
       "[(0.5038504665034143, 0.19414646464646462),\n",
       " (0.4861086572564422, 0.29412498229847345),\n",
       " (0.4717545282253694, 0.310766431796825),\n",
       " (0.45704400281288066, 0.3121880148425305),\n",
       " (0.4476006256627588, 0.3098661122760248),\n",
       " (0.43838007395308637, 0.3113310498891422),\n",
       " (0.4295332354550903, 0.3092088572522116),\n",
       " (0.42285221215938584, 0.30820474915652296),\n",
       " (0.4161912009449855, 0.30582119310739464),\n",
       " (0.41114016163350536, 0.30350790775029635)]"
      ]
     },
     "execution_count": 2,
     "metadata": {},
     "output_type": "execute_result"
    }
   ],
   "source": [
    "top_k_metrics"
   ]
  },
  {
   "cell_type": "code",
   "execution_count": 8,
   "metadata": {},
   "outputs": [],
   "source": [
    "x_top_k = [ele[0] for ele in top_k_metrics]\n",
    "y_top_k = [ele[1] for ele in top_k_metrics]"
   ]
  },
  {
   "cell_type": "code",
   "execution_count": 22,
   "metadata": {},
   "outputs": [],
   "source": [
    "nucleus_metrics = [(0.30447206507852564, 0.8205938835727099), (0.3529113082648603, 0.772750235477598), (0.41630752517796, 0.6951245335845431), (0.42301818337108515, 0.648938668094158), (0.45726635945208366, 0.5770275437453101), (0.4744582855286782, 0.5185280994553075), (0.4879587755400962, 0.43137562158278653), (0.4846282420574702, 0.3365353086131479), (0.49638332256089435, 0.2235695165940303)]"
   ]
  },
  {
   "cell_type": "code",
   "execution_count": 23,
   "metadata": {},
   "outputs": [],
   "source": [
    "x_nucleus = [ele[0] for ele in nucleus_metrics]\n",
    "y_nucleus = [ele[1] for ele in nucleus_metrics]"
   ]
  },
  {
   "cell_type": "code",
   "execution_count": 18,
   "metadata": {},
   "outputs": [],
   "source": [
    "temp_metrics = "
   ]
  },
  {
   "cell_type": "code",
   "execution_count": 19,
   "metadata": {},
   "outputs": [],
   "source": [
    "x_temp = [ele[0] for ele in temp_metrics]\n",
    "y_temp = [ele[1] for ele in temp_metrics]"
   ]
  },
  {
   "cell_type": "code",
   "execution_count": 24,
   "metadata": {},
   "outputs": [
    {
     "data": {
      "image/png": "[encoded data removed]",
      "text/plain": [
       "<Figure size 432x288 with 1 Axes>"
      ]
     },
     "metadata": {
      "needs_background": "light"
     },
     "output_type": "display_data"
    }
   ],
   "source": [
    "# plt.plot(x_top_k, y_top_k, '.r-')\n",
    "plt.plot(x_nucleus, y_nucleus, '.b-')\n",
    "# plt.plot(x_temp, y_temp, '.g-')\n",
    "plt.show()"
   ]
  },
  {
   "cell_type": "code",
   "execution_count": null,
   "metadata": {},
   "outputs": [],
   "source": []
  }
 ],
 "metadata": {
  "kernelspec": {
   "display_name": "Python 3",
   "language": "python",
   "name": "python3"
  },
  "language_info": {
   "codemirror_mode": {
    "name": "ipython",
    "version": 3
   },
   "file_extension": ".py",
   "mimetype": "text/x-python",
   "name": "python",
   "nbconvert_exporter": "python",
   "pygments_lexer": "ipython3",
   "version": "3.7.3"
  }
 },
 "nbformat": 4,
 "nbformat_minor": 2
}
